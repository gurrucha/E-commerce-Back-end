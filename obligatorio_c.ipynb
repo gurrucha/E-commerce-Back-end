{
  "nbformat": 4,
  "nbformat_minor": 0,
  "metadata": {
    "colab": {
      "provenance": [],
      "authorship_tag": "ABX9TyN85UhRqHpbLkrSB2itP+P+",
      "include_colab_link": true
    },
    "kernelspec": {
      "name": "python3",
      "display_name": "Python 3"
    },
    "language_info": {
      "name": "python"
    }
  },
  "cells": [
    {
      "cell_type": "markdown",
      "metadata": {
        "id": "view-in-github",
        "colab_type": "text"
      },
      "source": [
        "<a href=\"https://colab.research.google.com/github/gurrucha/E-commerce-Back-end/blob/main/obligatorio_c.ipynb\" target=\"_parent\"><img src=\"https://colab.research.google.com/assets/colab-badge.svg\" alt=\"Open In Colab\"/></a>"
      ]
    },
    {
      "cell_type": "code",
      "execution_count": null,
      "metadata": {
        "id": "nSG5ThRZyyFB",
        "colab": {
          "base_uri": "https://localhost:8080/"
        },
        "outputId": "26b54723-d1e4-458f-c23a-3ea42851243c",
        "collapsed": true
      },
      "outputs": [
        {
          "output_type": "stream",
          "name": "stdout",
          "text": [
            "Introduce un número: 2\n",
            "El número 2  es par.\n"
          ]
        }
      ],
      "source": [
        "#include <stdio.h>\n",
        "\n",
        "#define chorizo 50\n",
        "\n",
        "int main()\n",
        "{\n",
        "    char string[chorizo];\n",
        "\n",
        "    printf(\"Ingrese una cadena de texto: \");\n",
        "    scanf(\"%49s\", string);\n",
        "\n",
        "    printf(\"La cadena ingresada es: %s\\n\", string);\n",
        "\n",
        "    return 0;\n",
        "}"
      ]
    },
    {
      "cell_type": "code",
      "source": [
        "#include <stdio.h>\n",
        "#include <string.h>//para usar el strlen\n",
        "\n",
        "int main() {\n",
        "    char chorizo[100];\n",
        "    printf(\"Introduce una cadena: \");\n",
        "    fgets(chorizo, 100, stdin);\n",
        "    int longitud = strlen(chorizo) - 1;//fgets añade un caracter al final de las cadenas\n",
        "    printf(\"La longitud de la cadena es: %d\\n\", longitud);\n",
        "\n",
        "    return 0;\n",
        "}"
      ],
      "metadata": {
        "id": "mVyhS0J4jrz5"
      },
      "execution_count": null,
      "outputs": []
    },
    {
      "cell_type": "code",
      "source": [
        "Lo que pide este ejercicio ya lo hace el anterior veamos esto"
      ],
      "metadata": {
        "id": "yd2COgd8j98A"
      },
      "execution_count": null,
      "outputs": []
    },
    {
      "cell_type": "code",
      "source": [
        "#include <stdio.h>\n",
        "#include <string.h>\n",
        "\n",
        "#define chorizo 100\n",
        "\n",
        "int main() {\n",
        "    char cadena[chorizo];\n",
        "    char caracter;\n",
        "    int contador = 0;\n",
        "\n",
        "    printf(\"Introduce una cadena: \");\n",
        "    fgets(cadena, chorizo, stdin);\n",
        "    cadena[strcspn(cadena, \"\\n\")] = 0; // Elimina el carácter de nueva línea\n",
        "\n",
        "    printf(\"Introduce un caracter: \");\n",
        "    scanf(\"%c\", &caracter);\n",
        "\n",
        "    for(int i = 0; i < strlen(cadena); i++) {\n",
        "        if(cadena[i] == caracter) {\n",
        "            contador++;\n",
        "        }\n",
        "    }\n",
        "\n",
        "    printf(\"El caracter '%c' aparece %d veces en la cadena.\\n\", caracter, contador);\n",
        "\n",
        "    return 0;\n",
        "}"
      ],
      "metadata": {
        "colab": {
          "base_uri": "https://localhost:8080/",
          "height": 106
        },
        "id": "klkiKRHnkLjC",
        "outputId": "7e5396b9-f1fc-4c30-9b77-09b83a3ac41c"
      },
      "execution_count": 1,
      "outputs": [
        {
          "output_type": "error",
          "ename": "SyntaxError",
          "evalue": "invalid syntax (<ipython-input-1-79e4e78ccf6c>, line 6)",
          "traceback": [
            "\u001b[0;36m  File \u001b[0;32m\"<ipython-input-1-79e4e78ccf6c>\"\u001b[0;36m, line \u001b[0;32m6\u001b[0m\n\u001b[0;31m    int main() {\u001b[0m\n\u001b[0m        ^\u001b[0m\n\u001b[0;31mSyntaxError\u001b[0m\u001b[0;31m:\u001b[0m invalid syntax\n"
          ]
        }
      ]
    },
    {
      "cell_type": "code",
      "source": [
        "#include <stdio.h>\n",
        "#include <string.h>\n",
        "\n",
        "#define MAX_LEN 100\n",
        "\n",
        "int main()\n",
        "{\n",
        "    char cadena[MAX_LEN];\n",
        "    char caracter;\n",
        "    int contador = 0;\n",
        "\n",
        "    printf(\"Introduce una cadena: \");\n",
        "    fgets(cadena, MAX_LEN, stdin);\n",
        "    cadena[strcspn(cadena, \"\\n\")] = 0; // Elimina el carácter de nueva línea\n",
        "\n",
        "    printf(\"Introduce un caracter: \");\n",
        "    scanf(\"%c\", &caracter);\n",
        "\n",
        "    for (int i = 0; i < strlen(cadena); i++)\n",
        "    {\n",
        "        if (cadena[i] == caracter)\n",
        "        {\n",
        "            contador++;\n",
        "        }\n",
        "    }\n",
        "\n",
        "    printf(\"El caracter '%c' aparece %d veces en la cadena.\\n\", caracter, contador);\n",
        "\n",
        "    return 0;\n",
        "}"
      ],
      "metadata": {
        "id": "uTmtm-fPkLwF"
      },
      "execution_count": null,
      "outputs": []
    },
    {
      "cell_type": "code",
      "source": [
        "#include <stdio.h>\n",
        "#include <string.h>\n",
        "\n",
        "#define MAX_LEN 100\n",
        "\n",
        "int main()\n",
        "{\n",
        "    char cadena[MAX_LEN];\n",
        "    char caracter1, caracter2;\n",
        "\n",
        "    printf(\"Introduce una cadena: \");\n",
        "    fgets(cadena, MAX_LEN, stdin);\n",
        "    cadena[strcspn(cadena, \"\\n\")] = 0; // Elimina el carácter de nueva línea\n",
        "\n",
        "    printf(\"Introduce el caracter a reemplazar: \");\n",
        "    scanf(\" %c\", &caracter1); // Espacio antes de %c para ignorar el carácter de nueva línea anterior\n",
        "\n",
        "    printf(\"Introduce el caracter por el que reemplazar: \");\n",
        "    scanf(\" %c\", &caracter2); // Espacio antes de %c para ignorar el carácter de nueva línea anterior\n",
        "\n",
        "    for (int i = 0; i < strlen(cadena); i++)\n",
        "    {\n",
        "        if (cadena[i] == caracter1)\n",
        "        {\n",
        "            cadena[i] = caracter2;\n",
        "        }\n",
        "    }\n",
        "\n",
        "    printf(\"La cadena resultante es: %s\\n\", cadena);\n",
        "\n",
        "    return 0;\n",
        "}"
      ],
      "metadata": {
        "id": "VepTOutakL4o"
      },
      "execution_count": null,
      "outputs": []
    },
    {
      "cell_type": "code",
      "source": [
        "#include <stdio.h>\n",
        "#include <string.h>\n",
        "\n",
        "#define MAX_LEN 100\n",
        "\n",
        "int main()\n",
        "{\n",
        "    char cadena[MAX_LEN];\n",
        "    char caracter1, caracter2;\n",
        "\n",
        "    printf(\"Introduce una cadena: \");\n",
        "    fgets(cadena, MAX_LEN, stdin);\n",
        "    cadena[strcspn(cadena, \"\\n\")] = 0; // Elimina el carácter de nueva línea\n",
        "\n",
        "    printf(\"Introduce el caracter a reemplazar: \");\n",
        "    scanf(\" %c\", &caracter1); // Espacio antes de %c para ignorar el carácter de nueva línea anterior\n",
        "\n",
        "    printf(\"Introduce el caracter por el que reemplazar: \");\n",
        "    scanf(\" %c\", &caracter2); // Espacio antes de %c para ignorar el carácter de nueva línea anterior\n",
        "\n",
        "    for (int i = 0; i < strlen(cadena); i++)\n",
        "    {\n",
        "        if (cadena[i] == caracter1)\n",
        "        {\n",
        "            cadena[i] = caracter2;\n",
        "        }\n",
        "    }\n",
        "\n",
        "    printf(\"La cadena resultante es: %s\\n\", cadena);\n",
        "\n",
        "    return 0;\n",
        "}"
      ],
      "metadata": {
        "id": "Dn9tLSkUkMAX"
      },
      "execution_count": null,
      "outputs": []
    },
    {
      "cell_type": "code",
      "source": [
        "#include <stdio.h>\n",
        "#include <string.h>\n",
        "\n",
        "#define MAX_LEN 100\n",
        "\n",
        "int main()\n",
        "{\n",
        "    char cadena[MAX_LEN];\n",
        "    char caracter;\n",
        "    int i, j;\n",
        "    int encontrado = 0;\n",
        "\n",
        "    printf(\"Introduce una cadena: \");\n",
        "    fgets(cadena, MAX_LEN, stdin);\n",
        "    cadena[strcspn(cadena, \"\\n\")] = 0; // Elimina el carácter de nueva línea\n",
        "\n",
        "    printf(\"Introduce el caracter a eliminar: \");\n",
        "    scanf(\" %c\", &caracter); // Espacio antes de %c para ignorar el carácter de nueva línea anterior\n",
        "\n",
        "    for (i = 0; i < strlen(cadena); i++)\n",
        "    {\n",
        "        if (cadena[i] == caracter)\n",
        "        {\n",
        "            encontrado = 1;\n",
        "            for (j = i; j < strlen(cadena); j++)\n",
        "            {\n",
        "                cadena[j] = cadena[j + 1];\n",
        "            }\n",
        "            i--; // Decrementa el índice para procesar el carácter que se ha desplazado\n",
        "        }\n",
        "    }\n",
        "\n",
        "    if (encontrado)\n",
        "    {\n",
        "        printf(\"La cadena resultante es: %s\\n\", cadena);\n",
        "    }\n",
        "    else\n",
        "    {\n",
        "        printf(\"El caracter '%c' no se encuentra en la cadena.\\n\", caracter);\n",
        "    }\n",
        "\n",
        "    return 0;\n",
        "}"
      ],
      "metadata": {
        "id": "r29Er0ojjjec"
      },
      "execution_count": null,
      "outputs": []
    },
    {
      "cell_type": "code",
      "source": [
        "#include <stdio.h>\n",
        "#include <string.h>\n",
        "\n",
        "#define MAX_LEN 100\n",
        "\n",
        "int main()\n",
        "{\n",
        "    char cadena[MAX_LEN];\n",
        "    char caracter;\n",
        "    int encontrado = 0;\n",
        "\n",
        "    printf(\"Introduce una cadena: \");\n",
        "    fgets(cadena, MAX_LEN, stdin);\n",
        "    cadena[strcspn(cadena, \"\\n\")] = 0; // Elimina el carácter de nueva línea\n",
        "\n",
        "    printf(\"Introduce el caracter a buscar: \");\n",
        "    scanf(\" %c\", &caracter); // Espacio antes de %c para ignorar el carácter de nueva línea anterior\n",
        "\n",
        "    for (int i = 0; i < strlen(cadena); i++)\n",
        "    {\n",
        "        if (cadena[i] == caracter)\n",
        "        {\n",
        "            encontrado = 1;\n",
        "            break;\n",
        "        }\n",
        "    }\n",
        "\n",
        "    if (encontrado)\n",
        "    {\n",
        "        printf(\"Verdadero\\n\");\n",
        "    }\n",
        "    else\n",
        "    {\n",
        "        printf(\"Falso\\n\");\n",
        "    }\n",
        "\n",
        "    return 0;\n",
        "}"
      ],
      "metadata": {
        "id": "vd7NAAZxotbo"
      },
      "execution_count": null,
      "outputs": []
    },
    {
      "cell_type": "code",
      "source": [
        "#include <stdio.h>\n",
        "#include <string.h>\n",
        "\n",
        "#define MAX_LEN 100\n",
        "\n",
        "int main()\n",
        "{\n",
        "    char cadena[MAX_LEN];\n",
        "    char caracter;\n",
        "    int posicion = -1;\n",
        "\n",
        "    printf(\"Introduce una cadena: \");\n",
        "    fgets(cadena, MAX_LEN, stdin);\n",
        "    cadena[strcspn(cadena, \"\\n\")] = 0; // Elimina el carácter de nueva línea\n",
        "\n",
        "    printf(\"Introduce el caracter a buscar: \");\n",
        "    scanf(\" %c\", &caracter); // Espacio antes de %c para ignorar el carácter de nueva línea anterior\n",
        "\n",
        "    for (int i = 0; i < strlen(cadena); i++)\n",
        "    {\n",
        "        if (cadena[i] == caracter)\n",
        "        {\n",
        "            posicion = i;\n",
        "            break;\n",
        "        }\n",
        "    }\n",
        "\n",
        "    printf(\"Posicion: %d\\n\", posicion);\n",
        "\n",
        "    return 0;\n",
        "}"
      ],
      "metadata": {
        "id": "fRwtUGZGoto_"
      },
      "execution_count": null,
      "outputs": []
    },
    {
      "cell_type": "code",
      "source": [
        "#include <stdio.h>\n",
        "#include <string.h>\n",
        "\n",
        "#define MAX_LEN 100\n",
        "\n",
        "int main()\n",
        "{\n",
        "    char cadena1[MAX_LEN] = \"Hola\";\n",
        "    char cadena2[MAX_LEN] = \" Mundo\";\n",
        "    char cadena3[MAX_LEN];\n",
        "    char caracter = 'a';\n",
        "    int posicion = -1;\n",
        "\n",
        "    // Prueba la longitud de la cadena\n",
        "    printf(\"Longitud de '%s': %lu\\n\", cadena1, strlen(cadena1));\n",
        "\n",
        "    // Prueba la concatenación de cadenas\n",
        "    strcpy(cadena3, cadena1); // Copia cadena1 a cadena3\n",
        "    strcat(cadena3, cadena2); // Concatena cadena2 a cadena3\n",
        "    printf(\"Concatenacion: %s\\n\", cadena3);\n",
        "\n",
        "    // Prueba la comparación de cadenas\n",
        "    if (strcmp(cadena1, cadena2) == 0)\n",
        "    {\n",
        "        printf(\"Las cadenas son iguales\\n\");\n",
        "    }\n",
        "    else\n",
        "    {\n",
        "        printf(\"Las cadenas son diferentes\\n\");\n",
        "    }\n",
        "\n",
        "    // Prueba la búsqueda de un carácter en una cadena\n",
        "    for (int i = 0; i < strlen(cadena1); i++)\n",
        "    {\n",
        "        if (cadena1[i] == caracter)\n",
        "        {\n",
        "            posicion = i;\n",
        "            break;\n",
        "        }\n",
        "    }\n",
        "    if (posicion != -1)\n",
        "    {\n",
        "        printf(\"El caracter '%c' se encuentra en la posicion %d de la cadena '%s'\\n\", caracter, posicion, cadena1);\n",
        "    }\n",
        "    else\n",
        "    {\n",
        "        printf(\"El caracter '%c' no se encuentra en la cadena '%s'\\n\", caracter, cadena1);\n",
        "    }\n",
        "\n",
        "    return 0;\n",
        "}"
      ],
      "metadata": {
        "id": "K_6x6tkxotu3"
      },
      "execution_count": null,
      "outputs": []
    }
  ]
}